{
 "cells": [
  {
   "cell_type": "code",
   "execution_count": 27,
   "id": "a8c56206",
   "metadata": {},
   "outputs": [
    {
     "name": "stdout",
     "output_type": "stream",
     "text": [
      "Following is Depth First Traversal \n",
      "\n",
      "No\n"
     ]
    }
   ],
   "source": [
    "from collections import defaultdict\n",
    " \n",
    "class Graph:\n",
    "    def __init__(self):\n",
    "        #dictionary is a convenient way to store graph\n",
    "        self.graph= defaultdict(list)\n",
    "\n",
    "    \n",
    "    def AddEdge(self, u, v):\n",
    "        self.graph[u].append(v)\n",
    "    \n",
    "#     def Visit(self, v, visited):\n",
    "#         # Mark the current node as visited and print it\n",
    "#         visited.add(v)\n",
    "#         print(v, end= \" \")\n",
    "#         for neighbor in self.graph[v]:\n",
    "#             if neighbor not in visited:\n",
    "#                 self.Visit(neighbor, visited)\n",
    "                \n",
    "\n",
    "                \n",
    "              \n",
    "#     def DFS(self):\n",
    "#         visited= set()\n",
    "#         for v in self.graph:\n",
    "#             if v not in visited:\n",
    "#                 self.Visit(v, visited)\n",
    "                \n",
    "        \n",
    "\n",
    "    def FindPath(self, a, b):\n",
    "        visited= set()\n",
    "        Stack= [a]\n",
    "        flag= False\n",
    "        while Stack:\n",
    "            v= Stack.pop()\n",
    "            if v== b:\n",
    "                print(\"Yes\")\n",
    "                flag= True\n",
    "                break\n",
    "            if v in visited:\n",
    "                continue\n",
    "            visited.add(v)\n",
    "            for children in self.graph[v]:\n",
    "                Stack.append(children)\n",
    "        if flag != True:\n",
    "            print(\"No\")\n",
    "if __name__ == \"__main__\":\n",
    "    print(\"Following is Depth First Traversal \\n\")\n",
    "    g = Graph()\n",
    "    g.AddEdge(0, 1)\n",
    "    g.AddEdge(0, 2)\n",
    "    g.AddEdge(1, 2)\n",
    "    g.AddEdge(2, 0)\n",
    "    g.AddEdge(2, 4)\n",
    "    g.AddEdge(3, 3)\n",
    " \n",
    "    # Function call\n",
    "    g.FindPath(0, 3)\n",
    " "
   ]
  },
  {
   "cell_type": "code",
   "execution_count": null,
   "id": "3ba809ad",
   "metadata": {},
   "outputs": [],
   "source": []
  }
 ],
 "metadata": {
  "kernelspec": {
   "display_name": "Python 3 (ipykernel)",
   "language": "python",
   "name": "python3"
  },
  "language_info": {
   "codemirror_mode": {
    "name": "ipython",
    "version": 3
   },
   "file_extension": ".py",
   "mimetype": "text/x-python",
   "name": "python",
   "nbconvert_exporter": "python",
   "pygments_lexer": "ipython3",
   "version": "3.7.13"
  }
 },
 "nbformat": 4,
 "nbformat_minor": 5
}
