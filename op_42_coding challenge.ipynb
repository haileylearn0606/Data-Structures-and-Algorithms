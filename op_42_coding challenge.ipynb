{
 "cells": [
  {
   "cell_type": "code",
   "execution_count": 58,
   "id": "31481375",
   "metadata": {},
   "outputs": [
    {
     "name": "stdout",
     "output_type": "stream",
     "text": [
      "NO\n"
     ]
    }
   ],
   "source": [
    "import sys\n",
    "import itertools as IT\n",
    "\n",
    "# import pandas as pd\n",
    "# from sklearn import ...\n",
    "def Find(val, l= [], *args):\n",
    "    global ans\n",
    "    if len(l)==2:\n",
    "        #print(val, l[0])\n",
    "        if (val-l[1])==l[0]:\n",
    "            ans= 'YES'\n",
    "        elif (val+l[1])==l[0]:\n",
    "            ans= 'YES'\n",
    "        elif (val/l[1])==l[0]:\n",
    "            ans= 'YES'\n",
    "        return \n",
    "    pi= l[0]\n",
    "    new_l= l[1::]\n",
    "    Find(val-pi, new_l)\n",
    "    Find(val+pi, new_l)\n",
    "    Find(val/pi, new_l)\n",
    "    \n",
    "    \n",
    "line= [1,25,35,4,65]\n",
    "ans= 'NO'\n",
    "set_line= list(IT.permutations(line))\n",
    "for arr in set_line:\n",
    "    Find(42, arr)\n",
    "print(ans)"
   ]
  },
  {
   "cell_type": "code",
   "execution_count": null,
   "id": "bb60cf7e",
   "metadata": {},
   "outputs": [],
   "source": []
  }
 ],
 "metadata": {
  "kernelspec": {
   "display_name": "Python 3 (ipykernel)",
   "language": "python",
   "name": "python3"
  },
  "language_info": {
   "codemirror_mode": {
    "name": "ipython",
    "version": 3
   },
   "file_extension": ".py",
   "mimetype": "text/x-python",
   "name": "python",
   "nbconvert_exporter": "python",
   "pygments_lexer": "ipython3",
   "version": "3.7.13"
  }
 },
 "nbformat": 4,
 "nbformat_minor": 5
}
