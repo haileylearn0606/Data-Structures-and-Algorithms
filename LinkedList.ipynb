{
 "cells": [
  {
   "cell_type": "code",
   "execution_count": 18,
   "id": "37fd7858",
   "metadata": {},
   "outputs": [],
   "source": [
    "class Node:\n",
    "    def __init__(self, value):\n",
    "        self.value= value\n",
    "        self.next= None\n",
    "class LinkedList:\n",
    "    def __init__(self, head= None):\n",
    "        self.head= head\n",
    "    def Append(self, new_node):\n",
    "        current= self.head\n",
    "        if current:\n",
    "            while current.next!= None:\n",
    "                current= current.next\n",
    "            current.next= new_node\n",
    "        else:\n",
    "            self.head= new_node\n",
    "    def Print(self):\n",
    "        current= self.head\n",
    "        while current:\n",
    "            print(current.value)\n",
    "            current= current.next\n",
    "    def Insert(self, position, new_node):\n",
    "        current= self.head\n",
    "        cnt= 0\n",
    "        if position== 0:\n",
    "            new_node.next= current\n",
    "            current.head= new_node\n",
    "        while cnt!= position:\n",
    "            cnt+=1\n",
    "            if cnt==position:\n",
    "                new_node.next= current.next\n",
    "                current.next= new_node\n",
    "                return\n",
    "            else:\n",
    "                current= current.next\n",
    "    def Delete(self, position):\n",
    "        if position==0:\n",
    "            self.head= self.head.next\n",
    "            return\n",
    "        cnt=0\n",
    "        current= self.head\n",
    "        while cnt!= position:\n",
    "            cnt+=1\n",
    "            if cnt== position:\n",
    "                current.next= current.next.next\n",
    "            return"
   ]
  },
  {
   "cell_type": "code",
   "execution_count": 19,
   "id": "ec5f7bd6",
   "metadata": {},
   "outputs": [],
   "source": [
    "l= LinkedList(Node(2))\n",
    "l.Append(Node(3))\n",
    "l.Append(Node(5))\n",
    "l.Delete(1)"
   ]
  },
  {
   "cell_type": "code",
   "execution_count": 20,
   "id": "a33adba3",
   "metadata": {},
   "outputs": [
    {
     "name": "stdout",
     "output_type": "stream",
     "text": [
      "2\n",
      "5\n"
     ]
    }
   ],
   "source": [
    "l.Print()"
   ]
  },
  {
   "cell_type": "code",
   "execution_count": null,
   "id": "c1e35be3",
   "metadata": {},
   "outputs": [],
   "source": []
  }
 ],
 "metadata": {
  "kernelspec": {
   "display_name": "Python 3 (ipykernel)",
   "language": "python",
   "name": "python3"
  },
  "language_info": {
   "codemirror_mode": {
    "name": "ipython",
    "version": 3
   },
   "file_extension": ".py",
   "mimetype": "text/x-python",
   "name": "python",
   "nbconvert_exporter": "python",
   "pygments_lexer": "ipython3",
   "version": "3.7.13"
  }
 },
 "nbformat": 4,
 "nbformat_minor": 5
}
