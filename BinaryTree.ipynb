{
 "cells": [
  {
   "cell_type": "code",
   "execution_count": 41,
   "id": "a73201bf",
   "metadata": {},
   "outputs": [],
   "source": [
    "class Node:\n",
    "    def __init__(self, data):\n",
    "        self.data= data\n",
    "        self.left= self.right= None\n",
    "    def insert(self, value):\n",
    "        if self.data<= value:\n",
    "            if self.left== None:\n",
    "                self.left= Node(value)\n",
    "            else:\n",
    "                self.left.insert(value)\n",
    "        else:\n",
    "            if self.right==None:\n",
    "                self.right= Node(value)\n",
    "            else:\n",
    "                self.right.insert(value)\n",
    "    def contain(self, value):\n",
    "        if self.data== value:\n",
    "            return True\n",
    "        else:\n",
    "            if self.data<= value:\n",
    "                if self.left== None:\n",
    "                    return False\n",
    "                else:\n",
    "                    self.left.contain(value)\n",
    "            else:\n",
    "                if self.right== None:\n",
    "                     return False\n",
    "                else:\n",
    "                    self.right.contain(value)\n",
    "    def printInOrder(self):\n",
    "        if self.left:\n",
    "            self.left.printInOrder()\n",
    "        print(self.data)\n",
    "        if self.right:\n",
    "            self.right.printInOrder()\n",
    "\n",
    "if __name__== \"__main__\":\n",
    "    root = Node(27)\n",
    "    root.insert(14)\n",
    "    root.insert(35)\n",
    "    root.insert(10)\n",
    "    root.insert(19)\n",
    "    root.insert(31)\n",
    "    root.insert(42)\n",
    "    root.printInOrder()"
   ]
  },
  {
   "cell_type": "code",
   "execution_count": 42,
   "id": "5d4fd6c0",
   "metadata": {},
   "outputs": [
    {
     "name": "stdout",
     "output_type": "stream",
     "text": [
      "42\n",
      "35\n",
      "31\n",
      "27\n",
      "19\n",
      "14\n",
      "10\n"
     ]
    }
   ],
   "source": []
  },
  {
   "cell_type": "code",
   "execution_count": null,
   "id": "aaaac15f",
   "metadata": {},
   "outputs": [],
   "source": []
  }
 ],
 "metadata": {
  "kernelspec": {
   "display_name": "Python 3 (ipykernel)",
   "language": "python",
   "name": "python3"
  },
  "language_info": {
   "codemirror_mode": {
    "name": "ipython",
    "version": 3
   },
   "file_extension": ".py",
   "mimetype": "text/x-python",
   "name": "python",
   "nbconvert_exporter": "python",
   "pygments_lexer": "ipython3",
   "version": "3.7.13"
  }
 },
 "nbformat": 4,
 "nbformat_minor": 5
}
